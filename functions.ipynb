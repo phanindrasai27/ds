{
  "nbformat": 4,
  "nbformat_minor": 0,
  "metadata": {
    "colab": {
      "name": "functions.ipynb",
      "provenance": [],
      "authorship_tag": "ABX9TyNiWyn/+QQFRetTUfF6E4y3",
      "include_colab_link": true
    },
    "kernelspec": {
      "name": "python3",
      "display_name": "Python 3"
    },
    "language_info": {
      "name": "python"
    }
  },
  "cells": [
    {
      "cell_type": "markdown",
      "metadata": {
        "id": "view-in-github",
        "colab_type": "text"
      },
      "source": [
        "<a href=\"https://colab.research.google.com/github/phanirockzz/ds/blob/main/functions.ipynb\" target=\"_parent\"><img src=\"https://colab.research.google.com/assets/colab-badge.svg\" alt=\"Open In Colab\"/></a>"
      ]
    },
    {
      "cell_type": "code",
      "execution_count": null,
      "metadata": {
        "id": "Ps9dR35S1Cp_"
      },
      "outputs": [],
      "source": [
        "def addition(a,b):\n",
        "  ans = a+b\n",
        "  return ans"
      ]
    },
    {
      "cell_type": "code",
      "source": [
        "addition(4,5)"
      ],
      "metadata": {
        "colab": {
          "base_uri": "https://localhost:8080/"
        },
        "id": "IVRIg2Me3Nyc",
        "outputId": "5f79525c-2594-4bb8-8eb3-6c8294d96c44"
      },
      "execution_count": null,
      "outputs": [
        {
          "output_type": "execute_result",
          "data": {
            "text/plain": [
              "9"
            ]
          },
          "metadata": {},
          "execution_count": 2
        }
      ]
    },
    {
      "cell_type": "code",
      "source": [
        "addition(100,500)"
      ],
      "metadata": {
        "colab": {
          "base_uri": "https://localhost:8080/"
        },
        "id": "K1jUriHH3RG9",
        "outputId": "e6346cb7-f46c-40c6-9e66-7fb746387a80"
      },
      "execution_count": null,
      "outputs": [
        {
          "output_type": "execute_result",
          "data": {
            "text/plain": [
              "600"
            ]
          },
          "metadata": {},
          "execution_count": 3
        }
      ]
    },
    {
      "cell_type": "markdown",
      "source": [
        "## *define* \n",
        "function name\n",
        "parameters\n",
        "colon\n",
        "statements\n",
        "return statement"
      ],
      "metadata": {
        "id": "BlWzNUJk3cw-"
      }
    },
    {
      "cell_type": "code",
      "source": [
        "#calculate simple interest\n",
        "def sim_int(principal,rate,time):\n",
        "  interest = (principal*rate*time)/100\n",
        "  return interest + principal"
      ],
      "metadata": {
        "id": "4nnT5J5M3p69"
      },
      "execution_count": null,
      "outputs": []
    },
    {
      "cell_type": "code",
      "source": [
        "sim_int(1000,0.6,8)"
      ],
      "metadata": {
        "colab": {
          "base_uri": "https://localhost:8080/"
        },
        "id": "2nRPfwhE4F5L",
        "outputId": "d7304a1d-8236-4dde-a65a-26097e30ac9a"
      },
      "execution_count": null,
      "outputs": [
        {
          "output_type": "execute_result",
          "data": {
            "text/plain": [
              "1048.0"
            ]
          },
          "metadata": {},
          "execution_count": 8
        }
      ]
    },
    {
      "cell_type": "code",
      "source": [
        "# emoji function\n",
        "def emoji(unicode = None):\n",
        "  print(unicode)"
      ],
      "metadata": {
        "id": "TrvNWlIF4M0M"
      },
      "execution_count": null,
      "outputs": []
    },
    {
      "cell_type": "code",
      "source": [
        "def students(*names):\n",
        "  for name in names:\n",
        "    print('welcome ',names)\n"
      ],
      "metadata": {
        "id": "gKb4JwTx4lbY"
      },
      "execution_count": null,
      "outputs": []
    },
    {
      "cell_type": "code",
      "source": [
        "students('july','soh','ram','binny','haron','jimmy','nomu')"
      ],
      "metadata": {
        "colab": {
          "base_uri": "https://localhost:8080/"
        },
        "id": "arKKNjSM_ws_",
        "outputId": "c704cf8a-fd62-4e96-9f10-4503c3262aa1"
      },
      "execution_count": null,
      "outputs": [
        {
          "output_type": "stream",
          "name": "stdout",
          "text": [
            "welcome  july ,\n",
            "welcome  soh ,\n",
            "welcome  ram ,\n",
            "welcome  binny ,\n",
            "welcome  haron ,\n",
            "welcome  jimmy ,\n",
            "welcome  nomu ,\n"
          ]
        }
      ]
    },
    {
      "cell_type": "code",
      "source": [
        "def my_function(*mm):\n",
        "  for p in mm:\n",
        "    print(p)"
      ],
      "metadata": {
        "id": "EESowT7qAAIj"
      },
      "execution_count": null,
      "outputs": []
    },
    {
      "cell_type": "code",
      "source": [
        "my_function('hii','welcome','anything','name','12344')"
      ],
      "metadata": {
        "colab": {
          "base_uri": "https://localhost:8080/"
        },
        "id": "EKThO1R2Aonl",
        "outputId": "bb903866-46a0-473f-a4ec-f03245ec014b"
      },
      "execution_count": null,
      "outputs": [
        {
          "output_type": "stream",
          "name": "stdout",
          "text": [
            "hii\n",
            "welcome\n",
            "anything\n",
            "name\n",
            "12344\n"
          ]
        }
      ]
    },
    {
      "cell_type": "markdown",
      "source": [
        "## Lambda Function"
      ],
      "metadata": {
        "id": "Fxu7BfytA5i6"
      }
    },
    {
      "cell_type": "code",
      "source": [
        "def sum(a):\n",
        "  c = a + 11\n",
        "  return c"
      ],
      "metadata": {
        "id": "raVgUmT1AyWY"
      },
      "execution_count": null,
      "outputs": []
    },
    {
      "cell_type": "code",
      "source": [
        "sum(11)"
      ],
      "metadata": {
        "colab": {
          "base_uri": "https://localhost:8080/"
        },
        "id": "TxOWYNPsBXZd",
        "outputId": "4d621bea-eb3f-4624-e57e-6d36491d3e46"
      },
      "execution_count": null,
      "outputs": [
        {
          "output_type": "execute_result",
          "data": {
            "text/plain": [
              "22"
            ]
          },
          "metadata": {},
          "execution_count": 25
        }
      ]
    },
    {
      "cell_type": "code",
      "source": [
        "x = lambda a: a+10"
      ],
      "metadata": {
        "id": "uIv8VPYfBrk2"
      },
      "execution_count": null,
      "outputs": []
    },
    {
      "cell_type": "code",
      "source": [
        "x(5)"
      ],
      "metadata": {
        "colab": {
          "base_uri": "https://localhost:8080/"
        },
        "id": "MfEHCnvzBzJY",
        "outputId": "f116259b-7d23-4642-c03d-f2b3720a115e"
      },
      "execution_count": null,
      "outputs": [
        {
          "output_type": "execute_result",
          "data": {
            "text/plain": [
              "15"
            ]
          },
          "metadata": {},
          "execution_count": 28
        }
      ]
    },
    {
      "cell_type": "code",
      "source": [
        "x = lambda m,n : m*n"
      ],
      "metadata": {
        "id": "OyanS3U6B3rC"
      },
      "execution_count": null,
      "outputs": []
    },
    {
      "cell_type": "code",
      "source": [
        "x(11,11)"
      ],
      "metadata": {
        "colab": {
          "base_uri": "https://localhost:8080/"
        },
        "id": "HAQjbBWNCAWO",
        "outputId": "9023814a-4492-409b-fe25-a2a5b0543c46"
      },
      "execution_count": null,
      "outputs": [
        {
          "output_type": "execute_result",
          "data": {
            "text/plain": [
              "121"
            ]
          },
          "metadata": {},
          "execution_count": 30
        }
      ]
    },
    {
      "cell_type": "code",
      "source": [
        "def func(n):\n",
        "  return lambda c : c*n\n",
        "results = func(3)  "
      ],
      "metadata": {
        "id": "ns9C33EfCC5N"
      },
      "execution_count": null,
      "outputs": []
    },
    {
      "cell_type": "code",
      "source": [
        "results(11)"
      ],
      "metadata": {
        "colab": {
          "base_uri": "https://localhost:8080/"
        },
        "id": "igtAnYGhCl5O",
        "outputId": "1e821bf1-2427-493b-d6de-2e82350c4dc9"
      },
      "execution_count": null,
      "outputs": [
        {
          "output_type": "execute_result",
          "data": {
            "text/plain": [
              "33"
            ]
          },
          "metadata": {},
          "execution_count": 34
        }
      ]
    }
  ]
}